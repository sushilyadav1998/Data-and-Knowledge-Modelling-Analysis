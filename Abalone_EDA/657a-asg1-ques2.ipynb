{
 "cells": [
  {
   "cell_type": "code",
   "execution_count": 117,
   "id": "fb58f983",
   "metadata": {},
   "outputs": [],
   "source": [
    "import pandas as pd\n",
    "import matplotlib.pyplot as plt\n",
    "import warnings \n",
    "\n",
    "warnings.filterwarnings('ignore')"
   ]
  },
  {
   "cell_type": "code",
   "execution_count": 118,
   "id": "56995fb0",
   "metadata": {},
   "outputs": [],
   "source": [
    "df = pd.read_csv(\"D:/UWaterloo/Data Knowledge and Modelling/Assignment 1/abalone.csv\", names = ['Sex', 'Length', 'Diameter', 'Height', 'Whole_weight', \n",
    "                      'Sucked_weight', 'Viscera_weight', 'Shell_weight', 'Rings'], sep = ',')"
   ]
  },
  {
   "cell_type": "code",
   "execution_count": 138,
   "id": "9de65d5a",
   "metadata": {},
   "outputs": [
    {
     "data": {
      "text/html": [
       "<div>\n",
       "<style scoped>\n",
       "    .dataframe tbody tr th:only-of-type {\n",
       "        vertical-align: middle;\n",
       "    }\n",
       "\n",
       "    .dataframe tbody tr th {\n",
       "        vertical-align: top;\n",
       "    }\n",
       "\n",
       "    .dataframe thead th {\n",
       "        text-align: right;\n",
       "    }\n",
       "</style>\n",
       "<table border=\"1\" class=\"dataframe\">\n",
       "  <thead>\n",
       "    <tr style=\"text-align: right;\">\n",
       "      <th></th>\n",
       "      <th>Sex</th>\n",
       "      <th>Length</th>\n",
       "      <th>Diameter</th>\n",
       "      <th>Height</th>\n",
       "      <th>Whole_weight</th>\n",
       "      <th>Sucked_weight</th>\n",
       "      <th>Viscera_weight</th>\n",
       "      <th>Shell_weight</th>\n",
       "      <th>Rings</th>\n",
       "    </tr>\n",
       "  </thead>\n",
       "  <tbody>\n",
       "    <tr>\n",
       "      <th>0</th>\n",
       "      <td>M</td>\n",
       "      <td>0.455</td>\n",
       "      <td>0.365</td>\n",
       "      <td>0.095</td>\n",
       "      <td>0.5140</td>\n",
       "      <td>0.2245</td>\n",
       "      <td>0.1010</td>\n",
       "      <td>0.1500</td>\n",
       "      <td>15</td>\n",
       "    </tr>\n",
       "    <tr>\n",
       "      <th>1</th>\n",
       "      <td>M</td>\n",
       "      <td>0.350</td>\n",
       "      <td>0.265</td>\n",
       "      <td>0.090</td>\n",
       "      <td>0.2255</td>\n",
       "      <td>0.0995</td>\n",
       "      <td>0.0485</td>\n",
       "      <td>0.0700</td>\n",
       "      <td>7</td>\n",
       "    </tr>\n",
       "    <tr>\n",
       "      <th>2</th>\n",
       "      <td>F</td>\n",
       "      <td>0.530</td>\n",
       "      <td>0.420</td>\n",
       "      <td>0.135</td>\n",
       "      <td>0.6770</td>\n",
       "      <td>0.2565</td>\n",
       "      <td>0.1415</td>\n",
       "      <td>0.2100</td>\n",
       "      <td>9</td>\n",
       "    </tr>\n",
       "    <tr>\n",
       "      <th>3</th>\n",
       "      <td>M</td>\n",
       "      <td>0.440</td>\n",
       "      <td>0.365</td>\n",
       "      <td>0.125</td>\n",
       "      <td>0.5160</td>\n",
       "      <td>0.2155</td>\n",
       "      <td>0.1140</td>\n",
       "      <td>0.1550</td>\n",
       "      <td>10</td>\n",
       "    </tr>\n",
       "    <tr>\n",
       "      <th>4</th>\n",
       "      <td>I</td>\n",
       "      <td>0.330</td>\n",
       "      <td>0.255</td>\n",
       "      <td>0.080</td>\n",
       "      <td>0.2050</td>\n",
       "      <td>0.0895</td>\n",
       "      <td>0.0395</td>\n",
       "      <td>0.0550</td>\n",
       "      <td>7</td>\n",
       "    </tr>\n",
       "    <tr>\n",
       "      <th>...</th>\n",
       "      <td>...</td>\n",
       "      <td>...</td>\n",
       "      <td>...</td>\n",
       "      <td>...</td>\n",
       "      <td>...</td>\n",
       "      <td>...</td>\n",
       "      <td>...</td>\n",
       "      <td>...</td>\n",
       "      <td>...</td>\n",
       "    </tr>\n",
       "    <tr>\n",
       "      <th>4172</th>\n",
       "      <td>F</td>\n",
       "      <td>0.565</td>\n",
       "      <td>0.450</td>\n",
       "      <td>0.165</td>\n",
       "      <td>0.8870</td>\n",
       "      <td>0.3700</td>\n",
       "      <td>0.2390</td>\n",
       "      <td>0.2490</td>\n",
       "      <td>11</td>\n",
       "    </tr>\n",
       "    <tr>\n",
       "      <th>4173</th>\n",
       "      <td>M</td>\n",
       "      <td>0.590</td>\n",
       "      <td>0.440</td>\n",
       "      <td>0.135</td>\n",
       "      <td>0.9660</td>\n",
       "      <td>0.4390</td>\n",
       "      <td>0.2145</td>\n",
       "      <td>0.2605</td>\n",
       "      <td>10</td>\n",
       "    </tr>\n",
       "    <tr>\n",
       "      <th>4174</th>\n",
       "      <td>M</td>\n",
       "      <td>0.600</td>\n",
       "      <td>0.475</td>\n",
       "      <td>0.205</td>\n",
       "      <td>1.1760</td>\n",
       "      <td>0.5255</td>\n",
       "      <td>0.2875</td>\n",
       "      <td>0.3080</td>\n",
       "      <td>9</td>\n",
       "    </tr>\n",
       "    <tr>\n",
       "      <th>4175</th>\n",
       "      <td>F</td>\n",
       "      <td>0.625</td>\n",
       "      <td>0.485</td>\n",
       "      <td>0.150</td>\n",
       "      <td>1.0945</td>\n",
       "      <td>0.5310</td>\n",
       "      <td>0.2610</td>\n",
       "      <td>0.2960</td>\n",
       "      <td>10</td>\n",
       "    </tr>\n",
       "    <tr>\n",
       "      <th>4176</th>\n",
       "      <td>M</td>\n",
       "      <td>0.710</td>\n",
       "      <td>0.555</td>\n",
       "      <td>0.195</td>\n",
       "      <td>1.9485</td>\n",
       "      <td>0.9455</td>\n",
       "      <td>0.3765</td>\n",
       "      <td>0.4950</td>\n",
       "      <td>12</td>\n",
       "    </tr>\n",
       "  </tbody>\n",
       "</table>\n",
       "<p>4177 rows × 9 columns</p>\n",
       "</div>"
      ],
      "text/plain": [
       "     Sex  Length  Diameter  Height  Whole_weight  Sucked_weight  \\\n",
       "0      M   0.455     0.365   0.095        0.5140         0.2245   \n",
       "1      M   0.350     0.265   0.090        0.2255         0.0995   \n",
       "2      F   0.530     0.420   0.135        0.6770         0.2565   \n",
       "3      M   0.440     0.365   0.125        0.5160         0.2155   \n",
       "4      I   0.330     0.255   0.080        0.2050         0.0895   \n",
       "...   ..     ...       ...     ...           ...            ...   \n",
       "4172   F   0.565     0.450   0.165        0.8870         0.3700   \n",
       "4173   M   0.590     0.440   0.135        0.9660         0.4390   \n",
       "4174   M   0.600     0.475   0.205        1.1760         0.5255   \n",
       "4175   F   0.625     0.485   0.150        1.0945         0.5310   \n",
       "4176   M   0.710     0.555   0.195        1.9485         0.9455   \n",
       "\n",
       "      Viscera_weight  Shell_weight  Rings  \n",
       "0             0.1010        0.1500     15  \n",
       "1             0.0485        0.0700      7  \n",
       "2             0.1415        0.2100      9  \n",
       "3             0.1140        0.1550     10  \n",
       "4             0.0395        0.0550      7  \n",
       "...              ...           ...    ...  \n",
       "4172          0.2390        0.2490     11  \n",
       "4173          0.2145        0.2605     10  \n",
       "4174          0.2875        0.3080      9  \n",
       "4175          0.2610        0.2960     10  \n",
       "4176          0.3765        0.4950     12  \n",
       "\n",
       "[4177 rows x 9 columns]"
      ]
     },
     "execution_count": 138,
     "metadata": {},
     "output_type": "execute_result"
    }
   ],
   "source": [
    "df"
   ]
  },
  {
   "cell_type": "code",
   "execution_count": 122,
   "id": "7e9c7069",
   "metadata": {},
   "outputs": [
    {
     "data": {
      "image/png": "[encoded data removed]",
      "text/plain": [
       "<Figure size 640x480 with 1 Axes>"
      ]
     },
     "metadata": {},
     "output_type": "display_data"
    }
   ],
   "source": [
    "# Check any relationship between Sex and Rings\n",
    "plt.scatter(y=df['Sex'], x=df['Rings'])\n",
    "plt.xlabel('Rings')\n",
    "plt.ylabel('Sex')\n",
    "plt.show()\n",
    "\n",
    "# This feature is not a very helpful tool to predict the Rings and hence we can drop it. "
   ]
  },
  {
   "cell_type": "code",
   "execution_count": 177,
   "id": "7157ece2",
   "metadata": {},
   "outputs": [
    {
     "data": {
      "text/plain": [
       "0.20933014354066987"
      ]
     },
     "execution_count": 177,
     "metadata": {},
     "output_type": "execute_result"
    }
   ],
   "source": [
    "X = df.iloc[:, 1:8]  # Removing sex feature  \n",
    "y = df.iloc[:, 8]\n",
    "list_scores = []\n",
    "\n",
    "# Split the dataset into 80:20\n",
    "from sklearn.model_selection import train_test_split\n",
    "X_train, X_test, y_train, y_test = train_test_split(X, y, test_size=0.2, random_state=1)\n",
    "\n",
    "# Apply KNN classification\n",
    "from sklearn.neighbors import KNeighborsClassifier\n",
    "knn = KNeighborsClassifier(n_neighbors=3)\n",
    "knn.fit(X_train, y_train)\n",
    "knn_initial_score = knn.score(X_test, y_test)\n",
    "knn_initial_score"
   ]
  },
  {
   "cell_type": "code",
   "execution_count": 226,
   "id": "1038cead",
   "metadata": {},
   "outputs": [],
   "source": [
    "# Balance the training dataset\n",
    "from imblearn.over_sampling import RandomOverSampler\n",
    "os = RandomOverSampler(random_state=1)\n",
    "X_train_sampled, y_train_sampled = os.fit_resample(X_train, y_train)"
   ]
  },
  {
   "cell_type": "code",
   "execution_count": 227,
   "id": "35589c03",
   "metadata": {},
   "outputs": [],
   "source": [
    "# Apply Z-score \n",
    "from sklearn.preprocessing import StandardScaler\n",
    "sc = StandardScaler()\n",
    "X_train_sampled.iloc[:, 1:] = sc.fit_transform(X_train_sampled.iloc[:, 1:])"
   ]
  },
  {
   "cell_type": "code",
   "execution_count": 253,
   "id": "977e1938",
   "metadata": {},
   "outputs": [],
   "source": [
    "from sklearn.metrics import accuracy_score\n",
    "from sklearn.model_selection import StratifiedKFold\n",
    "\n",
    "def model_training(K):\n",
    "    model_score = []\n",
    "    accuracy_list = []\n",
    "    # Split the 80% training dataset using KFold\n",
    "    kf = StratifiedKFold(n_splits=5)\n",
    "\n",
    "    for train_index, test_index in kf.split(X_train_sampled, y_train_sampled):\n",
    "        X_train, X_test = X_train_sampled.iloc[train_index,:], X_train_sampled.iloc[test_index,:] \n",
    "        y_train, y_test = y_train_sampled[train_index] , y_train_sampled[test_index]\n",
    "\n",
    "        # create model for every fold\n",
    "        knn = KNeighborsClassifier(n_neighbors=K)\n",
    "        knn.fit(X_train, y_train)\n",
    "        model_score.append(knn.score(X_test, y_test))\n",
    "        pred_values = knn.predict(X_test)\n",
    "\n",
    "        acc = accuracy_score(pred_values , y_test)\n",
    "        accuracy_list.append(acc)\n",
    "\n",
    "    avg_accuracy = sum(accuracy_list)/K\n",
    "    return avg_accuracy"
   ]
  },
  {
   "cell_type": "code",
   "execution_count": 265,
   "id": "109f8865",
   "metadata": {},
   "outputs": [
    {
     "name": "stdout",
     "output_type": "stream",
     "text": [
      "5 0.7574429864321597\n",
      "6 0.621519800160922\n",
      "7 0.5226530054148931\n",
      "8 0.4489571512703297\n",
      "9 0.3929638585694588\n",
      "10 0.34770193494068774\n",
      "11 0.311094407393828\n",
      "12 0.2816684996493737\n",
      "13 0.2555727187905966\n",
      "14 0.23472389443496144\n"
     ]
    },
    {
     "data": {
      "image/png": "[encoded data removed]",
      "text/plain": [
       "<Figure size 640x480 with 1 Axes>"
      ]
     },
     "metadata": {},
     "output_type": "display_data"
    }
   ],
   "source": [
    "for i in range(5, 15):\n",
    "    avg_acc = model_training(i)\n",
    "    print(i, avg_acc)\n",
    "    plt.scatter(x=i, y=avg_acc*100)\n",
    "    plt.xlabel(\"Values of K across all folds\")\n",
    "    plt.ylabel(\"Mean Validation Accuracy\")"
   ]
  },
  {
   "cell_type": "markdown",
   "id": "3bb6e104",
   "metadata": {},
   "source": [
    "As per the graph and on the basis of the type of dataset, we consider K = 10 to be the best choice."
   ]
  },
  {
   "cell_type": "code",
   "execution_count": 266,
   "id": "453f0411",
   "metadata": {},
   "outputs": [
    {
     "data": {
      "text/plain": [
       "0.22607655502392343"
      ]
     },
     "execution_count": 266,
     "metadata": {},
     "output_type": "execute_result"
    }
   ],
   "source": [
    "# Running KNN using K=10\n",
    "X_train, X_test, y_train, y_test = train_test_split(X, y, test_size=0.2, random_state=1)\n",
    "knn = KNeighborsClassifier(n_neighbors=10)\n",
    "knn.fit(X_train, y_train)\n",
    "knn_initial_score = knn.score(X_test, y_test)\n",
    "knn_initial_score"
   ]
  },
  {
   "cell_type": "code",
   "execution_count": null,
   "id": "a92566f4",
   "metadata": {},
   "outputs": [],
   "source": []
  }
 ],
 "metadata": {
  "kernelspec": {
   "display_name": "Python 3 (ipykernel)",
   "language": "python",
   "name": "python3"
  },
  "language_info": {
   "codemirror_mode": {
    "name": "ipython",
    "version": 3
   },
   "file_extension": ".py",
   "mimetype": "text/x-python",
   "name": "python",
   "nbconvert_exporter": "python",
   "pygments_lexer": "ipython3",
   "version": "3.9.13"
  }
 },
 "nbformat": 4,
 "nbformat_minor": 5
}
