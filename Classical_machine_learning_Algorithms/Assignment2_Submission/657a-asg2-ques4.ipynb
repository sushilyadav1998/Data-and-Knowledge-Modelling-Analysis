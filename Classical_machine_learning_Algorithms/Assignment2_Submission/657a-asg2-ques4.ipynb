{
 "cells": [
  {
   "cell_type": "code",
   "execution_count": 3,
   "id": "fe7efba3",
   "metadata": {},
   "outputs": [
    {
     "data": {
      "text/html": [
       "<script>\n",
       "code_show=true; \n",
       "function code_toggle() {\n",
       " if (code_show){\n",
       " $('div.input').hide();\n",
       " } else {\n",
       " $('div.input').show();\n",
       " }\n",
       " code_show = !code_show\n",
       "} \n",
       "$( document ).ready(code_toggle);\n",
       "</script>\n",
       "<form action=\"javascript:code_toggle()\"><input type=\"submit\" value=\"Click here to toggle on/off the raw code.\"></form>"
      ],
      "text/plain": [
       "<IPython.core.display.HTML object>"
      ]
     },
     "execution_count": 3,
     "metadata": {},
     "output_type": "execute_result"
    }
   ],
   "source": [
    "from IPython.display import HTML\n",
    "\n",
    "HTML('''<script>\n",
    "code_show=true; \n",
    "function code_toggle() {\n",
    " if (code_show){\n",
    " $('div.input').hide();\n",
    " } else {\n",
    " $('div.input').show();\n",
    " }\n",
    " code_show = !code_show\n",
    "} \n",
    "$( document ).ready(code_toggle);\n",
    "</script>\n",
    "<form action=\"javascript:code_toggle()\"><input type=\"submit\" value=\"Click here to toggle on/off the raw code.\"></form>''')"
   ]
  },
  {
   "cell_type": "markdown",
   "id": "352a8967",
   "metadata": {},
   "source": [
    "## Question 4\n",
    "### Loading Abalone dataset"
   ]
  },
  {
   "cell_type": "code",
   "execution_count": 13,
   "id": "a7f2b68e",
   "metadata": {},
   "outputs": [
    {
     "data": {
      "text/plain": [
       "array([[-0.57455813, -0.43214879, -1.06442415, ..., -0.60768536,\n",
       "        -0.72621157, -0.63821689],\n",
       "       [-1.44898585, -1.439929  , -1.18397831, ..., -1.17090984,\n",
       "        -1.20522124, -1.21298732],\n",
       "       [ 0.05003309,  0.12213032, -0.10799087, ..., -0.4634999 ,\n",
       "        -0.35668983, -0.20713907],\n",
       "       ...,\n",
       "       [ 0.6329849 ,  0.67640943,  1.56576738, ...,  0.74855917,\n",
       "         0.97541324,  0.49695471],\n",
       "       [ 0.84118198,  0.77718745,  0.25067161, ...,  0.77334105,\n",
       "         0.73362741,  0.41073914],\n",
       "       [ 1.54905203,  1.48263359,  1.32665906, ...,  2.64099341,\n",
       "         1.78744868,  1.84048058]])"
      ]
     },
     "execution_count": 13,
     "metadata": {},
     "output_type": "execute_result"
    }
   ],
   "source": [
    "import pandas as pd\n",
    "import numpy as np\n",
    "import matplotlib.pyplot as plt\n",
    "%matplotlib inline\n",
    "from sklearn.discriminant_analysis import LinearDiscriminantAnalysis \n",
    "from sklearn.preprocessing import StandardScaler, MinMaxScaler\n",
    "from sklearn.decomposition import PCA\n",
    "import warnings\n",
    "warnings.filterwarnings('ignore')\n",
    "\n",
    "# Load raw abalone dataset\n",
    "abalone_df = pd.read_csv(\"D:/UWaterloo/ece657a/Assignment 2/abalone.csv\", names = ['Sex', 'Length', 'Diameter', 'Height', 'Whole_weight', \n",
    "                      'Sucked_weight', 'Viscera_weight', 'Shell_weight', 'Rings'], sep = ',')\n",
    "\n",
    "# Separate indep and dep features\n",
    "X_abalone = abalone_df.iloc[:, 1:-1] # Removed the sex feature\n",
    "y_abalone = abalone_df.iloc[:, -1]\n",
    "\n",
    "# Normalize dataset \n",
    "sc1 = StandardScaler()\n",
    "X_abalone = sc1.fit_transform(X_abalone)\n",
    "X_abalone"
   ]
  },
  {
   "cell_type": "markdown",
   "id": "93c5c724",
   "metadata": {},
   "source": [
    "## using PCA-preprocessing on abalone dataset"
   ]
  },
  {
   "cell_type": "code",
   "execution_count": 14,
   "id": "7077c9ad",
   "metadata": {},
   "outputs": [
    {
     "data": {
      "text/html": [
       "<div>\n",
       "<style scoped>\n",
       "    .dataframe tbody tr th:only-of-type {\n",
       "        vertical-align: middle;\n",
       "    }\n",
       "\n",
       "    .dataframe tbody tr th {\n",
       "        vertical-align: top;\n",
       "    }\n",
       "\n",
       "    .dataframe thead th {\n",
       "        text-align: right;\n",
       "    }\n",
       "</style>\n",
       "<table border=\"1\" class=\"dataframe\">\n",
       "  <thead>\n",
       "    <tr style=\"text-align: right;\">\n",
       "      <th></th>\n",
       "      <th>PC1</th>\n",
       "      <th>PC2</th>\n",
       "      <th>PC3</th>\n",
       "    </tr>\n",
       "  </thead>\n",
       "  <tbody>\n",
       "    <tr>\n",
       "      <th>0</th>\n",
       "      <td>-1.756019</td>\n",
       "      <td>-0.390532</td>\n",
       "      <td>-0.329928</td>\n",
       "    </tr>\n",
       "    <tr>\n",
       "      <th>1</th>\n",
       "      <td>-3.362734</td>\n",
       "      <td>-0.105153</td>\n",
       "      <td>0.252264</td>\n",
       "    </tr>\n",
       "    <tr>\n",
       "      <th>2</th>\n",
       "      <td>-0.482338</td>\n",
       "      <td>0.252055</td>\n",
       "      <td>-0.443918</td>\n",
       "    </tr>\n",
       "    <tr>\n",
       "      <th>3</th>\n",
       "      <td>-1.509041</td>\n",
       "      <td>0.207608</td>\n",
       "      <td>-0.000519</td>\n",
       "    </tr>\n",
       "    <tr>\n",
       "      <th>4</th>\n",
       "      <td>-3.654006</td>\n",
       "      <td>-0.272819</td>\n",
       "      <td>0.275035</td>\n",
       "    </tr>\n",
       "    <tr>\n",
       "      <th>...</th>\n",
       "      <td>...</td>\n",
       "      <td>...</td>\n",
       "      <td>...</td>\n",
       "    </tr>\n",
       "    <tr>\n",
       "      <th>4172</th>\n",
       "      <td>0.801361</td>\n",
       "      <td>0.385426</td>\n",
       "      <td>-0.064832</td>\n",
       "    </tr>\n",
       "    <tr>\n",
       "      <th>4173</th>\n",
       "      <td>0.719312</td>\n",
       "      <td>-0.329146</td>\n",
       "      <td>-0.293062</td>\n",
       "    </tr>\n",
       "    <tr>\n",
       "      <th>4174</th>\n",
       "      <td>2.167373</td>\n",
       "      <td>0.724010</td>\n",
       "      <td>0.402521</td>\n",
       "    </tr>\n",
       "    <tr>\n",
       "      <th>4175</th>\n",
       "      <td>1.647501</td>\n",
       "      <td>-0.305166</td>\n",
       "      <td>-0.306030</td>\n",
       "    </tr>\n",
       "    <tr>\n",
       "      <th>4176</th>\n",
       "      <td>4.894542</td>\n",
       "      <td>-0.705798</td>\n",
       "      <td>0.550942</td>\n",
       "    </tr>\n",
       "  </tbody>\n",
       "</table>\n",
       "<p>4177 rows × 3 columns</p>\n",
       "</div>"
      ],
      "text/plain": [
       "           PC1       PC2       PC3\n",
       "0    -1.756019 -0.390532 -0.329928\n",
       "1    -3.362734 -0.105153  0.252264\n",
       "2    -0.482338  0.252055 -0.443918\n",
       "3    -1.509041  0.207608 -0.000519\n",
       "4    -3.654006 -0.272819  0.275035\n",
       "...        ...       ...       ...\n",
       "4172  0.801361  0.385426 -0.064832\n",
       "4173  0.719312 -0.329146 -0.293062\n",
       "4174  2.167373  0.724010  0.402521\n",
       "4175  1.647501 -0.305166 -0.306030\n",
       "4176  4.894542 -0.705798  0.550942\n",
       "\n",
       "[4177 rows x 3 columns]"
      ]
     },
     "execution_count": 14,
     "metadata": {},
     "output_type": "execute_result"
    }
   ],
   "source": [
    "# Apply PCA on abalone dataset\n",
    "pca = PCA(n_components=3)\n",
    "abalone_pca = pca.fit_transform(X_abalone)\n",
    "abalone_pca_df = pd.DataFrame(data=abalone_pca, columns=['PC1', 'PC2', 'PC3'])\n",
    "abalone_pca_df"
   ]
  },
  {
   "cell_type": "markdown",
   "id": "9c28d78a",
   "metadata": {},
   "source": [
    "## using LDA-preprocessing on abalone dataset"
   ]
  },
  {
   "cell_type": "code",
   "execution_count": 15,
   "id": "ae1e4b21",
   "metadata": {},
   "outputs": [
    {
     "data": {
      "text/html": [
       "<div>\n",
       "<style scoped>\n",
       "    .dataframe tbody tr th:only-of-type {\n",
       "        vertical-align: middle;\n",
       "    }\n",
       "\n",
       "    .dataframe tbody tr th {\n",
       "        vertical-align: top;\n",
       "    }\n",
       "\n",
       "    .dataframe thead th {\n",
       "        text-align: right;\n",
       "    }\n",
       "</style>\n",
       "<table border=\"1\" class=\"dataframe\">\n",
       "  <thead>\n",
       "    <tr style=\"text-align: right;\">\n",
       "      <th></th>\n",
       "      <th>0</th>\n",
       "      <th>1</th>\n",
       "      <th>2</th>\n",
       "    </tr>\n",
       "    <tr>\n",
       "      <th>Rings</th>\n",
       "      <th></th>\n",
       "      <th></th>\n",
       "      <th></th>\n",
       "    </tr>\n",
       "  </thead>\n",
       "  <tbody>\n",
       "    <tr>\n",
       "      <th>15</th>\n",
       "      <td>-0.791003</td>\n",
       "      <td>-0.235208</td>\n",
       "      <td>0.359351</td>\n",
       "    </tr>\n",
       "    <tr>\n",
       "      <th>7</th>\n",
       "      <td>-2.355522</td>\n",
       "      <td>0.336978</td>\n",
       "      <td>0.214024</td>\n",
       "    </tr>\n",
       "    <tr>\n",
       "      <th>9</th>\n",
       "      <td>0.766719</td>\n",
       "      <td>-0.246564</td>\n",
       "      <td>1.129422</td>\n",
       "    </tr>\n",
       "    <tr>\n",
       "      <th>10</th>\n",
       "      <td>-0.611434</td>\n",
       "      <td>0.098075</td>\n",
       "      <td>0.230542</td>\n",
       "    </tr>\n",
       "    <tr>\n",
       "      <th>7</th>\n",
       "      <td>-2.674301</td>\n",
       "      <td>0.527509</td>\n",
       "      <td>0.102575</td>\n",
       "    </tr>\n",
       "    <tr>\n",
       "      <th>...</th>\n",
       "      <td>...</td>\n",
       "      <td>...</td>\n",
       "      <td>...</td>\n",
       "    </tr>\n",
       "    <tr>\n",
       "      <th>11</th>\n",
       "      <td>0.921330</td>\n",
       "      <td>-0.612381</td>\n",
       "      <td>-0.272399</td>\n",
       "    </tr>\n",
       "    <tr>\n",
       "      <th>10</th>\n",
       "      <td>0.425796</td>\n",
       "      <td>-0.894428</td>\n",
       "      <td>-0.034727</td>\n",
       "    </tr>\n",
       "    <tr>\n",
       "      <th>9</th>\n",
       "      <td>1.064523</td>\n",
       "      <td>-0.385654</td>\n",
       "      <td>-0.787231</td>\n",
       "    </tr>\n",
       "    <tr>\n",
       "      <th>10</th>\n",
       "      <td>0.840757</td>\n",
       "      <td>-1.513723</td>\n",
       "      <td>-0.864217</td>\n",
       "    </tr>\n",
       "    <tr>\n",
       "      <th>12</th>\n",
       "      <td>0.843580</td>\n",
       "      <td>0.352389</td>\n",
       "      <td>-2.262564</td>\n",
       "    </tr>\n",
       "  </tbody>\n",
       "</table>\n",
       "<p>4177 rows × 3 columns</p>\n",
       "</div>"
      ],
      "text/plain": [
       "              0         1         2\n",
       "Rings                              \n",
       "15    -0.791003 -0.235208  0.359351\n",
       "7     -2.355522  0.336978  0.214024\n",
       "9      0.766719 -0.246564  1.129422\n",
       "10    -0.611434  0.098075  0.230542\n",
       "7     -2.674301  0.527509  0.102575\n",
       "...         ...       ...       ...\n",
       "11     0.921330 -0.612381 -0.272399\n",
       "10     0.425796 -0.894428 -0.034727\n",
       "9      1.064523 -0.385654 -0.787231\n",
       "10     0.840757 -1.513723 -0.864217\n",
       "12     0.843580  0.352389 -2.262564\n",
       "\n",
       "[4177 rows x 3 columns]"
      ]
     },
     "execution_count": 15,
     "metadata": {},
     "output_type": "execute_result"
    }
   ],
   "source": [
    "# Apply LDA on raw abalone dataset\n",
    "X_abalone_lda = X_abalone\n",
    "y_abalone_lda = y_abalone\n",
    "lda = LinearDiscriminantAnalysis(n_components=3)\n",
    "X_abalone_lda = lda.fit(X_abalone_lda, y_abalone_lda).transform(X_abalone_lda)\n",
    "abalone_lda_df = pd.DataFrame(X_abalone_lda, y_abalone_lda)\n",
    "abalone_lda_df"
   ]
  },
  {
   "cell_type": "markdown",
   "id": "41e832b0",
   "metadata": {},
   "source": [
    "## Loading wine dataset"
   ]
  },
  {
   "cell_type": "code",
   "execution_count": 16,
   "id": "c7ed0706",
   "metadata": {},
   "outputs": [
    {
     "data": {
      "text/html": [
       "<div>\n",
       "<style scoped>\n",
       "    .dataframe tbody tr th:only-of-type {\n",
       "        vertical-align: middle;\n",
       "    }\n",
       "\n",
       "    .dataframe tbody tr th {\n",
       "        vertical-align: top;\n",
       "    }\n",
       "\n",
       "    .dataframe thead th {\n",
       "        text-align: right;\n",
       "    }\n",
       "</style>\n",
       "<table border=\"1\" class=\"dataframe\">\n",
       "  <thead>\n",
       "    <tr style=\"text-align: right;\">\n",
       "      <th></th>\n",
       "      <th>fixed acidity</th>\n",
       "      <th>volatile acidity</th>\n",
       "      <th>citric acid</th>\n",
       "      <th>residual sugar</th>\n",
       "      <th>chlorides</th>\n",
       "      <th>free sulfur dioxide</th>\n",
       "      <th>total sulfur dioxide</th>\n",
       "      <th>density</th>\n",
       "      <th>pH</th>\n",
       "      <th>sulphates</th>\n",
       "      <th>alcohol</th>\n",
       "      <th>quality</th>\n",
       "      <th>colour</th>\n",
       "    </tr>\n",
       "  </thead>\n",
       "  <tbody>\n",
       "    <tr>\n",
       "      <th>0</th>\n",
       "      <td>7.0</td>\n",
       "      <td>0.270</td>\n",
       "      <td>0.36</td>\n",
       "      <td>20.7</td>\n",
       "      <td>0.045</td>\n",
       "      <td>45.0</td>\n",
       "      <td>170.0</td>\n",
       "      <td>1.0010</td>\n",
       "      <td>3.00</td>\n",
       "      <td>0.45</td>\n",
       "      <td>8.8</td>\n",
       "      <td>6</td>\n",
       "      <td>0</td>\n",
       "    </tr>\n",
       "    <tr>\n",
       "      <th>1</th>\n",
       "      <td>6.3</td>\n",
       "      <td>0.300</td>\n",
       "      <td>0.34</td>\n",
       "      <td>1.6</td>\n",
       "      <td>0.049</td>\n",
       "      <td>14.0</td>\n",
       "      <td>132.0</td>\n",
       "      <td>0.9940</td>\n",
       "      <td>3.30</td>\n",
       "      <td>0.49</td>\n",
       "      <td>9.5</td>\n",
       "      <td>6</td>\n",
       "      <td>0</td>\n",
       "    </tr>\n",
       "    <tr>\n",
       "      <th>2</th>\n",
       "      <td>8.1</td>\n",
       "      <td>0.280</td>\n",
       "      <td>0.40</td>\n",
       "      <td>6.9</td>\n",
       "      <td>0.050</td>\n",
       "      <td>30.0</td>\n",
       "      <td>97.0</td>\n",
       "      <td>0.9951</td>\n",
       "      <td>3.26</td>\n",
       "      <td>0.44</td>\n",
       "      <td>10.1</td>\n",
       "      <td>6</td>\n",
       "      <td>0</td>\n",
       "    </tr>\n",
       "    <tr>\n",
       "      <th>3</th>\n",
       "      <td>7.2</td>\n",
       "      <td>0.230</td>\n",
       "      <td>0.32</td>\n",
       "      <td>8.5</td>\n",
       "      <td>0.058</td>\n",
       "      <td>47.0</td>\n",
       "      <td>186.0</td>\n",
       "      <td>0.9956</td>\n",
       "      <td>3.19</td>\n",
       "      <td>0.40</td>\n",
       "      <td>9.9</td>\n",
       "      <td>6</td>\n",
       "      <td>0</td>\n",
       "    </tr>\n",
       "    <tr>\n",
       "      <th>4</th>\n",
       "      <td>7.2</td>\n",
       "      <td>0.230</td>\n",
       "      <td>0.32</td>\n",
       "      <td>8.5</td>\n",
       "      <td>0.058</td>\n",
       "      <td>47.0</td>\n",
       "      <td>186.0</td>\n",
       "      <td>0.9956</td>\n",
       "      <td>3.19</td>\n",
       "      <td>0.40</td>\n",
       "      <td>9.9</td>\n",
       "      <td>6</td>\n",
       "      <td>0</td>\n",
       "    </tr>\n",
       "    <tr>\n",
       "      <th>...</th>\n",
       "      <td>...</td>\n",
       "      <td>...</td>\n",
       "      <td>...</td>\n",
       "      <td>...</td>\n",
       "      <td>...</td>\n",
       "      <td>...</td>\n",
       "      <td>...</td>\n",
       "      <td>...</td>\n",
       "      <td>...</td>\n",
       "      <td>...</td>\n",
       "      <td>...</td>\n",
       "      <td>...</td>\n",
       "      <td>...</td>\n",
       "    </tr>\n",
       "    <tr>\n",
       "      <th>95</th>\n",
       "      <td>7.1</td>\n",
       "      <td>0.260</td>\n",
       "      <td>0.29</td>\n",
       "      <td>12.4</td>\n",
       "      <td>0.044</td>\n",
       "      <td>62.0</td>\n",
       "      <td>240.0</td>\n",
       "      <td>0.9969</td>\n",
       "      <td>3.04</td>\n",
       "      <td>0.42</td>\n",
       "      <td>9.2</td>\n",
       "      <td>6</td>\n",
       "      <td>0</td>\n",
       "    </tr>\n",
       "    <tr>\n",
       "      <th>96</th>\n",
       "      <td>6.0</td>\n",
       "      <td>0.340</td>\n",
       "      <td>0.66</td>\n",
       "      <td>15.9</td>\n",
       "      <td>0.046</td>\n",
       "      <td>26.0</td>\n",
       "      <td>164.0</td>\n",
       "      <td>0.9979</td>\n",
       "      <td>3.14</td>\n",
       "      <td>0.50</td>\n",
       "      <td>8.8</td>\n",
       "      <td>6</td>\n",
       "      <td>0</td>\n",
       "    </tr>\n",
       "    <tr>\n",
       "      <th>97</th>\n",
       "      <td>8.6</td>\n",
       "      <td>0.265</td>\n",
       "      <td>0.36</td>\n",
       "      <td>1.2</td>\n",
       "      <td>0.034</td>\n",
       "      <td>15.0</td>\n",
       "      <td>80.0</td>\n",
       "      <td>0.9913</td>\n",
       "      <td>2.95</td>\n",
       "      <td>0.36</td>\n",
       "      <td>11.4</td>\n",
       "      <td>7</td>\n",
       "      <td>0</td>\n",
       "    </tr>\n",
       "    <tr>\n",
       "      <th>98</th>\n",
       "      <td>9.8</td>\n",
       "      <td>0.360</td>\n",
       "      <td>0.46</td>\n",
       "      <td>10.5</td>\n",
       "      <td>0.038</td>\n",
       "      <td>4.0</td>\n",
       "      <td>83.0</td>\n",
       "      <td>0.9956</td>\n",
       "      <td>2.89</td>\n",
       "      <td>0.30</td>\n",
       "      <td>10.1</td>\n",
       "      <td>4</td>\n",
       "      <td>0</td>\n",
       "    </tr>\n",
       "    <tr>\n",
       "      <th>99</th>\n",
       "      <td>6.0</td>\n",
       "      <td>0.340</td>\n",
       "      <td>0.66</td>\n",
       "      <td>15.9</td>\n",
       "      <td>0.046</td>\n",
       "      <td>26.0</td>\n",
       "      <td>164.0</td>\n",
       "      <td>0.9979</td>\n",
       "      <td>3.14</td>\n",
       "      <td>0.50</td>\n",
       "      <td>8.8</td>\n",
       "      <td>6</td>\n",
       "      <td>0</td>\n",
       "    </tr>\n",
       "  </tbody>\n",
       "</table>\n",
       "<p>100 rows × 13 columns</p>\n",
       "</div>"
      ],
      "text/plain": [
       "    fixed acidity  volatile acidity  citric acid  residual sugar  chlorides  \\\n",
       "0             7.0             0.270         0.36            20.7      0.045   \n",
       "1             6.3             0.300         0.34             1.6      0.049   \n",
       "2             8.1             0.280         0.40             6.9      0.050   \n",
       "3             7.2             0.230         0.32             8.5      0.058   \n",
       "4             7.2             0.230         0.32             8.5      0.058   \n",
       "..            ...               ...          ...             ...        ...   \n",
       "95            7.1             0.260         0.29            12.4      0.044   \n",
       "96            6.0             0.340         0.66            15.9      0.046   \n",
       "97            8.6             0.265         0.36             1.2      0.034   \n",
       "98            9.8             0.360         0.46            10.5      0.038   \n",
       "99            6.0             0.340         0.66            15.9      0.046   \n",
       "\n",
       "    free sulfur dioxide  total sulfur dioxide  density    pH  sulphates  \\\n",
       "0                  45.0                 170.0   1.0010  3.00       0.45   \n",
       "1                  14.0                 132.0   0.9940  3.30       0.49   \n",
       "2                  30.0                  97.0   0.9951  3.26       0.44   \n",
       "3                  47.0                 186.0   0.9956  3.19       0.40   \n",
       "4                  47.0                 186.0   0.9956  3.19       0.40   \n",
       "..                  ...                   ...      ...   ...        ...   \n",
       "95                 62.0                 240.0   0.9969  3.04       0.42   \n",
       "96                 26.0                 164.0   0.9979  3.14       0.50   \n",
       "97                 15.0                  80.0   0.9913  2.95       0.36   \n",
       "98                  4.0                  83.0   0.9956  2.89       0.30   \n",
       "99                 26.0                 164.0   0.9979  3.14       0.50   \n",
       "\n",
       "    alcohol  quality  colour  \n",
       "0       8.8        6       0  \n",
       "1       9.5        6       0  \n",
       "2      10.1        6       0  \n",
       "3       9.9        6       0  \n",
       "4       9.9        6       0  \n",
       "..      ...      ...     ...  \n",
       "95      9.2        6       0  \n",
       "96      8.8        6       0  \n",
       "97     11.4        7       0  \n",
       "98     10.1        4       0  \n",
       "99      8.8        6       0  \n",
       "\n",
       "[100 rows x 13 columns]"
      ]
     },
     "execution_count": 16,
     "metadata": {},
     "output_type": "execute_result"
    }
   ],
   "source": [
    "wine_r = pd.read_csv(\"D:/UWaterloo/ece657a/Assignment 2/winequality-red.csv\", sep=';')\n",
    "wine_r[\"colour\"]=1\n",
    "wine_w = pd.read_csv(\"D:/UWaterloo/ece657a/Assignment 2/winequality-white.csv\", sep=';')\n",
    "wine_w[\"colour\"]=0\n",
    "wine_raw = pd.concat([wine_w,wine_r], ignore_index=True)\n",
    "wine_raw.head(100)"
   ]
  },
  {
   "cell_type": "markdown",
   "id": "bf3ac290",
   "metadata": {},
   "source": [
    "## using PCA-preprocessing on wine dataset"
   ]
  },
  {
   "cell_type": "code",
   "execution_count": 17,
   "id": "91724886",
   "metadata": {},
   "outputs": [
    {
     "data": {
      "text/html": [
       "<div>\n",
       "<style scoped>\n",
       "    .dataframe tbody tr th:only-of-type {\n",
       "        vertical-align: middle;\n",
       "    }\n",
       "\n",
       "    .dataframe tbody tr th {\n",
       "        vertical-align: top;\n",
       "    }\n",
       "\n",
       "    .dataframe thead th {\n",
       "        text-align: right;\n",
       "    }\n",
       "</style>\n",
       "<table border=\"1\" class=\"dataframe\">\n",
       "  <thead>\n",
       "    <tr style=\"text-align: right;\">\n",
       "      <th></th>\n",
       "      <th>PC1</th>\n",
       "      <th>PC2</th>\n",
       "    </tr>\n",
       "  </thead>\n",
       "  <tbody>\n",
       "    <tr>\n",
       "      <th>0</th>\n",
       "      <td>-2.185179</td>\n",
       "      <td>3.529983</td>\n",
       "    </tr>\n",
       "    <tr>\n",
       "      <th>1</th>\n",
       "      <td>-0.247707</td>\n",
       "      <td>-0.553177</td>\n",
       "    </tr>\n",
       "    <tr>\n",
       "      <th>2</th>\n",
       "      <td>-0.380592</td>\n",
       "      <td>0.365447</td>\n",
       "    </tr>\n",
       "    <tr>\n",
       "      <th>3</th>\n",
       "      <td>-1.735882</td>\n",
       "      <td>0.929351</td>\n",
       "    </tr>\n",
       "    <tr>\n",
       "      <th>4</th>\n",
       "      <td>-1.735882</td>\n",
       "      <td>0.929351</td>\n",
       "    </tr>\n",
       "    <tr>\n",
       "      <th>...</th>\n",
       "      <td>...</td>\n",
       "      <td>...</td>\n",
       "    </tr>\n",
       "    <tr>\n",
       "      <th>6492</th>\n",
       "      <td>2.699833</td>\n",
       "      <td>-0.854172</td>\n",
       "    </tr>\n",
       "    <tr>\n",
       "      <th>6493</th>\n",
       "      <td>2.524458</td>\n",
       "      <td>-1.161039</td>\n",
       "    </tr>\n",
       "    <tr>\n",
       "      <th>6494</th>\n",
       "      <td>2.775507</td>\n",
       "      <td>-0.761733</td>\n",
       "    </tr>\n",
       "    <tr>\n",
       "      <th>6495</th>\n",
       "      <td>2.984356</td>\n",
       "      <td>-0.767021</td>\n",
       "    </tr>\n",
       "    <tr>\n",
       "      <th>6496</th>\n",
       "      <td>1.852698</td>\n",
       "      <td>-0.516246</td>\n",
       "    </tr>\n",
       "  </tbody>\n",
       "</table>\n",
       "<p>6497 rows × 2 columns</p>\n",
       "</div>"
      ],
      "text/plain": [
       "           PC1       PC2\n",
       "0    -2.185179  3.529983\n",
       "1    -0.247707 -0.553177\n",
       "2    -0.380592  0.365447\n",
       "3    -1.735882  0.929351\n",
       "4    -1.735882  0.929351\n",
       "...        ...       ...\n",
       "6492  2.699833 -0.854172\n",
       "6493  2.524458 -1.161039\n",
       "6494  2.775507 -0.761733\n",
       "6495  2.984356 -0.767021\n",
       "6496  1.852698 -0.516246\n",
       "\n",
       "[6497 rows x 2 columns]"
      ]
     },
     "execution_count": 17,
     "metadata": {},
     "output_type": "execute_result"
    }
   ],
   "source": [
    "# Separate indep and dep features\n",
    "X_wine1 = wine_raw.iloc[:, :-2]\n",
    "y_wine = wine_raw.iloc[:, -2]\n",
    "X_wine = pd.concat([X_wine1, wine_raw.iloc[:, -1]], axis=1)\n",
    "\n",
    "# Normalize dataset \n",
    "sc2 = StandardScaler()\n",
    "X_wine = sc2.fit_transform(X_wine)\n",
    "X_wine.shape, y_wine.shape\n",
    "\n",
    "# Apply PCA on wine dataset for dimensionality reduction\n",
    "pca = PCA(n_components=2)\n",
    "wine_pca = pca.fit_transform(X_wine)\n",
    "wine_pca_df = pd.DataFrame(data=wine_pca, columns=['PC1', 'PC2'])\n",
    "wine_pca_df"
   ]
  },
  {
   "cell_type": "markdown",
   "id": "5cb7fd1c",
   "metadata": {},
   "source": [
    "## using LDA-preprocessing on wine dataset"
   ]
  },
  {
   "cell_type": "code",
   "execution_count": 18,
   "id": "ea8dd219",
   "metadata": {},
   "outputs": [
    {
     "name": "stdout",
     "output_type": "stream",
     "text": [
      "(6497, 2)\n"
     ]
    },
    {
     "data": {
      "text/html": [
       "<div>\n",
       "<style scoped>\n",
       "    .dataframe tbody tr th:only-of-type {\n",
       "        vertical-align: middle;\n",
       "    }\n",
       "\n",
       "    .dataframe tbody tr th {\n",
       "        vertical-align: top;\n",
       "    }\n",
       "\n",
       "    .dataframe thead th {\n",
       "        text-align: right;\n",
       "    }\n",
       "</style>\n",
       "<table border=\"1\" class=\"dataframe\">\n",
       "  <thead>\n",
       "    <tr style=\"text-align: right;\">\n",
       "      <th></th>\n",
       "      <th>0</th>\n",
       "      <th>1</th>\n",
       "    </tr>\n",
       "    <tr>\n",
       "      <th>quality</th>\n",
       "      <th></th>\n",
       "      <th></th>\n",
       "    </tr>\n",
       "  </thead>\n",
       "  <tbody>\n",
       "    <tr>\n",
       "      <th>6</th>\n",
       "      <td>0.752078</td>\n",
       "      <td>-1.466209</td>\n",
       "    </tr>\n",
       "    <tr>\n",
       "      <th>6</th>\n",
       "      <td>1.445150</td>\n",
       "      <td>0.392049</td>\n",
       "    </tr>\n",
       "    <tr>\n",
       "      <th>6</th>\n",
       "      <td>-0.123015</td>\n",
       "      <td>0.911451</td>\n",
       "    </tr>\n",
       "    <tr>\n",
       "      <th>6</th>\n",
       "      <td>0.288961</td>\n",
       "      <td>-0.721769</td>\n",
       "    </tr>\n",
       "    <tr>\n",
       "      <th>6</th>\n",
       "      <td>0.288961</td>\n",
       "      <td>-0.721769</td>\n",
       "    </tr>\n",
       "    <tr>\n",
       "      <th>...</th>\n",
       "      <td>...</td>\n",
       "      <td>...</td>\n",
       "    </tr>\n",
       "    <tr>\n",
       "      <th>5</th>\n",
       "      <td>0.512278</td>\n",
       "      <td>-0.224430</td>\n",
       "    </tr>\n",
       "    <tr>\n",
       "      <th>6</th>\n",
       "      <td>-0.514707</td>\n",
       "      <td>-0.597340</td>\n",
       "    </tr>\n",
       "    <tr>\n",
       "      <th>6</th>\n",
       "      <td>-0.231160</td>\n",
       "      <td>-0.831907</td>\n",
       "    </tr>\n",
       "    <tr>\n",
       "      <th>5</th>\n",
       "      <td>0.630811</td>\n",
       "      <td>0.158871</td>\n",
       "    </tr>\n",
       "    <tr>\n",
       "      <th>6</th>\n",
       "      <td>-0.668993</td>\n",
       "      <td>-2.296580</td>\n",
       "    </tr>\n",
       "  </tbody>\n",
       "</table>\n",
       "<p>6497 rows × 2 columns</p>\n",
       "</div>"
      ],
      "text/plain": [
       "                0         1\n",
       "quality                    \n",
       "6        0.752078 -1.466209\n",
       "6        1.445150  0.392049\n",
       "6       -0.123015  0.911451\n",
       "6        0.288961 -0.721769\n",
       "6        0.288961 -0.721769\n",
       "...           ...       ...\n",
       "5        0.512278 -0.224430\n",
       "6       -0.514707 -0.597340\n",
       "6       -0.231160 -0.831907\n",
       "5        0.630811  0.158871\n",
       "6       -0.668993 -2.296580\n",
       "\n",
       "[6497 rows x 2 columns]"
      ]
     },
     "execution_count": 18,
     "metadata": {},
     "output_type": "execute_result"
    }
   ],
   "source": [
    "# Apply LDA on raw wine dataset\n",
    "X_wine_lda = X_wine\n",
    "y_wine_lda = y_wine\n",
    "lda = LinearDiscriminantAnalysis(n_components=2)\n",
    "X_wine_lda = lda.fit(X_wine_lda, y_wine_lda).transform(X_wine_lda)\n",
    "wine_lda_df = pd.DataFrame(X_wine_lda, y_wine_lda)\n",
    "print(wine_lda_df.shape)\n",
    "wine_lda_df"
   ]
  },
  {
   "cell_type": "markdown",
   "id": "7fc98972",
   "metadata": {},
   "source": [
    "# Random Forest on Abalone dataset\n",
    "#### Printing accuracy and best parameter for raw abalone dataset"
   ]
  },
  {
   "cell_type": "code",
   "execution_count": 19,
   "id": "422efb3c",
   "metadata": {},
   "outputs": [],
   "source": [
    "from sklearn.ensemble import RandomForestClassifier\n",
    "from sklearn.model_selection import GridSearchCV, cross_val_score"
   ]
  },
  {
   "cell_type": "code",
   "execution_count": 20,
   "id": "a9d9936b",
   "metadata": {},
   "outputs": [
    {
     "name": "stdout",
     "output_type": "stream",
     "text": [
      "Best Parameters: {'max_depth': 8, 'n_estimators': 153}\n",
      "Mean Accuracy: 0.277958055181503\n"
     ]
    }
   ],
   "source": [
    "# define the range of parameter values\n",
    "param_grid = {\n",
    "    'max_depth': range(2, 21),\n",
    "    'n_estimators': range(3, 201, 10)\n",
    "}\n",
    "\n",
    "# create the Random Forest classifier object\n",
    "rf = RandomForestClassifier(random_state=42)\n",
    "\n",
    "# perform the grid search with 5-fold cross validation\n",
    "grid_search = GridSearchCV(rf, param_grid, cv=5, n_jobs=-1)\n",
    "\n",
    "# fit the grid search to the data\n",
    "grid_search.fit(X_abalone, y_abalone)\n",
    "\n",
    "# print the best parameters and mean accuracy\n",
    "print(\"Best Parameters:\", grid_search.best_params_)\n",
    "print(\"Mean Accuracy:\", grid_search.best_score_)"
   ]
  },
  {
   "cell_type": "markdown",
   "id": "5c19c9e9",
   "metadata": {},
   "source": [
    "To produce a plot showing the mean accuracy vs. the above parameter settings, we can use the following code:"
   ]
  },
  {
   "cell_type": "code",
   "execution_count": 21,
   "id": "e38ed141",
   "metadata": {},
   "outputs": [
    {
     "data": {
      "image/png": "[encoded data removed]",
      "text/plain": [
       "<Figure size 1000x600 with 2 Axes>"
      ]
     },
     "metadata": {},
     "output_type": "display_data"
    }
   ],
   "source": [
    "mean_scores = np.array(grid_search.cv_results_['mean_test_score']).reshape(len(param_grid['n_estimators']), len(param_grid['max_depth']))\n",
    "plt.figure(figsize=(10, 6))\n",
    "plt.imshow(mean_scores, cmap='viridis', interpolation='nearest')\n",
    "plt.xticks(np.arange(len(param_grid['max_depth'])), param_grid['max_depth'])\n",
    "plt.yticks(np.arange(len(param_grid['n_estimators'])), param_grid['n_estimators'])\n",
    "plt.xlabel('Max Depth')\n",
    "plt.ylabel('Number of Trees')\n",
    "plt.colorbar()\n",
    "plt.show()"
   ]
  },
  {
   "cell_type": "markdown",
   "id": "4b30c78a",
   "metadata": {},
   "source": [
    "From the heat plot, we can see that the best mean accuracy is achieved with a maximum depth of 8 and 153 trees. from the above colorbar, we can see that if we go on increasing the max depth, which in turn would increase the number of trees which would result the model to overfit and the accuracy will drop. so to get the best parameters, we shall use the parameters that is best suited for the data."
   ]
  },
  {
   "cell_type": "markdown",
   "id": "716e25d3",
   "metadata": {},
   "source": [
    "# Random Forest on Wine - raw dataset:\n",
    "#### Printing accuracy and best parameter for raw wine dataset"
   ]
  },
  {
   "cell_type": "code",
   "execution_count": 22,
   "id": "d2f9a847",
   "metadata": {},
   "outputs": [
    {
     "name": "stdout",
     "output_type": "stream",
     "text": [
      "Best Parameters: {'max_depth': 10, 'n_estimators': 93}\n",
      "Mean Accuracy: 0.5163887013679161\n"
     ]
    }
   ],
   "source": [
    "# define the range of parameter values\n",
    "param_grid = {\n",
    "    'max_depth': range(2, 21),\n",
    "    'n_estimators': range(3, 201, 10)\n",
    "}\n",
    "\n",
    "# create the Random Forest classifier object\n",
    "rf = RandomForestClassifier(random_state=42)\n",
    "\n",
    "# perform the grid search with 5-fold cross validation\n",
    "grid_search = GridSearchCV(rf, param_grid, cv=5, n_jobs=-1)\n",
    "\n",
    "# fit the grid search to the data\n",
    "grid_search.fit(X_wine, y_wine)\n",
    "\n",
    "# print the best parameters and mean accuracy\n",
    "print(\"Best Parameters:\", grid_search.best_params_)\n",
    "print(\"Mean Accuracy:\", grid_search.best_score_)"
   ]
  },
  {
   "cell_type": "code",
   "execution_count": 23,
   "id": "7e5182fc",
   "metadata": {},
   "outputs": [
    {
     "data": {
      "image/png": "[encoded data removed]",
      "text/plain": [
       "<Figure size 1000x600 with 2 Axes>"
      ]
     },
     "metadata": {},
     "output_type": "display_data"
    }
   ],
   "source": [
    "mean_scores = np.array(grid_search.cv_results_['mean_test_score']).reshape(len(param_grid['n_estimators']), len(param_grid['max_depth']))\n",
    "plt.figure(figsize=(10, 6))\n",
    "plt.imshow(mean_scores, cmap='viridis', interpolation='nearest')\n",
    "plt.xticks(np.arange(len(param_grid['max_depth'])), param_grid['max_depth'])\n",
    "plt.yticks(np.arange(len(param_grid['n_estimators'])), param_grid['n_estimators'])\n",
    "plt.xlabel('Max Depth')\n",
    "plt.ylabel('Number of Trees')\n",
    "plt.colorbar()\n",
    "plt.show()"
   ]
  },
  {
   "cell_type": "markdown",
   "id": "61ebc892",
   "metadata": {},
   "source": [
    "From the heat plot, we can see that the best mean accuracy is achieved with a maximum depth of 10 and 93 trees."
   ]
  },
  {
   "cell_type": "markdown",
   "id": "d54756be",
   "metadata": {},
   "source": [
    "# Random Forest - Abalone PCA dataset"
   ]
  },
  {
   "cell_type": "code",
   "execution_count": 25,
   "id": "176bfd42",
   "metadata": {},
   "outputs": [
    {
     "name": "stdout",
     "output_type": "stream",
     "text": [
      "Best Parameters: {'max_depth': 6, 'n_estimators': 43}\n",
      "Mean Accuracy: 0.26239606910580754\n"
     ]
    }
   ],
   "source": [
    "# define the range of parameter values\n",
    "param_grid = {\n",
    "    'max_depth': range(2, 21),\n",
    "    'n_estimators': range(3, 201, 10)\n",
    "}\n",
    "\n",
    "# create the Random Forest classifier object\n",
    "rf = RandomForestClassifier(random_state=42)\n",
    "\n",
    "# perform the grid search with 5-fold cross validation\n",
    "grid_search = GridSearchCV(rf, param_grid, cv=5, n_jobs=-1)\n",
    "\n",
    "# fit the grid search to the data\n",
    "grid_search.fit(abalone_pca, y_abalone)\n",
    "\n",
    "# print the best parameters and mean accuracy\n",
    "print(\"Best Parameters:\", grid_search.best_params_)\n",
    "print(\"Mean Accuracy:\", grid_search.best_score_)"
   ]
  },
  {
   "cell_type": "code",
   "execution_count": 26,
   "id": "3b1237a2",
   "metadata": {},
   "outputs": [
    {
     "data": {
      "image/png": "[encoded data removed]",
      "text/plain": [
       "<Figure size 1000x600 with 2 Axes>"
      ]
     },
     "metadata": {},
     "output_type": "display_data"
    }
   ],
   "source": [
    "mean_scores = np.array(grid_search.cv_results_['mean_test_score']).reshape(len(param_grid['n_estimators']), len(param_grid['max_depth']))\n",
    "plt.figure(figsize=(10, 6))\n",
    "plt.imshow(mean_scores, cmap='viridis', interpolation='nearest')\n",
    "plt.xticks(np.arange(len(param_grid['max_depth'])), param_grid['max_depth'])\n",
    "plt.yticks(np.arange(len(param_grid['n_estimators'])), param_grid['n_estimators'])\n",
    "plt.xlabel('Max Depth')\n",
    "plt.ylabel('Number of Trees')\n",
    "plt.colorbar()\n",
    "plt.show()"
   ]
  },
  {
   "cell_type": "markdown",
   "id": "c15c048a",
   "metadata": {},
   "source": [
    "# Random Forest - Wine PCA dataset"
   ]
  },
  {
   "cell_type": "code",
   "execution_count": 27,
   "id": "23017a18",
   "metadata": {},
   "outputs": [
    {
     "name": "stdout",
     "output_type": "stream",
     "text": [
      "Best Parameters: {'max_depth': 3, 'n_estimators': 73}\n",
      "Mean Accuracy: 0.4341899686149109\n"
     ]
    }
   ],
   "source": [
    "# define the range of parameter values\n",
    "param_grid = {\n",
    "    'max_depth': range(2, 21),\n",
    "    'n_estimators': range(3, 201, 10)\n",
    "}\n",
    "\n",
    "# create the Random Forest classifier object\n",
    "rf = RandomForestClassifier(random_state=42)\n",
    "\n",
    "# perform the grid search with 5-fold cross validation\n",
    "grid_search = GridSearchCV(rf, param_grid, cv=5, n_jobs=-1)\n",
    "\n",
    "# fit the grid search to the data\n",
    "grid_search.fit(wine_pca, y_wine)\n",
    "\n",
    "# print the best parameters and mean accuracy\n",
    "print(\"Best Parameters:\", grid_search.best_params_)\n",
    "print(\"Mean Accuracy:\", grid_search.best_score_)"
   ]
  },
  {
   "cell_type": "code",
   "execution_count": 28,
   "id": "94d5f561",
   "metadata": {},
   "outputs": [
    {
     "data": {
      "image/png": "[encoded data removed]",
      "text/plain": [
       "<Figure size 1000x600 with 2 Axes>"
      ]
     },
     "metadata": {},
     "output_type": "display_data"
    }
   ],
   "source": [
    "mean_scores = np.array(grid_search.cv_results_['mean_test_score']).reshape(len(param_grid['n_estimators']), len(param_grid['max_depth']))\n",
    "plt.figure(figsize=(10, 6))\n",
    "plt.imshow(mean_scores, cmap='viridis', interpolation='nearest')\n",
    "plt.xticks(np.arange(len(param_grid['max_depth'])), param_grid['max_depth'])\n",
    "plt.yticks(np.arange(len(param_grid['n_estimators'])), param_grid['n_estimators'])\n",
    "plt.xlabel('Max Depth')\n",
    "plt.ylabel('Number of Trees')\n",
    "plt.colorbar()\n",
    "plt.show()"
   ]
  },
  {
   "cell_type": "markdown",
   "id": "58b090bc",
   "metadata": {},
   "source": [
    "# Random Forest - Abalone LDA dataset"
   ]
  },
  {
   "cell_type": "code",
   "execution_count": 29,
   "id": "2a19217f",
   "metadata": {},
   "outputs": [
    {
     "name": "stdout",
     "output_type": "stream",
     "text": [
      "Best Parameters: {'max_depth': 7, 'n_estimators': 73}\n",
      "Mean Accuracy: 0.26933701974042346\n"
     ]
    }
   ],
   "source": [
    "# define the range of parameter values\n",
    "param_grid = {\n",
    "    'max_depth': range(2, 21),\n",
    "    'n_estimators': range(3, 201, 10)\n",
    "}\n",
    "\n",
    "# create the Random Forest classifier object\n",
    "rf = RandomForestClassifier(random_state=42)\n",
    "\n",
    "# perform the grid search with 5-fold cross validation\n",
    "grid_search = GridSearchCV(rf, param_grid, cv=5, n_jobs=-1)\n",
    "\n",
    "# fit the grid search to the data\n",
    "grid_search.fit(X_abalone_lda, y_abalone)\n",
    "\n",
    "# print the best parameters and mean accuracy\n",
    "print(\"Best Parameters:\", grid_search.best_params_)\n",
    "print(\"Mean Accuracy:\", grid_search.best_score_)"
   ]
  },
  {
   "cell_type": "code",
   "execution_count": 30,
   "id": "2796cdf5",
   "metadata": {},
   "outputs": [
    {
     "data": {
      "image/png": "[encoded data removed]",
      "text/plain": [
       "<Figure size 1000x600 with 2 Axes>"
      ]
     },
     "metadata": {},
     "output_type": "display_data"
    }
   ],
   "source": [
    "mean_scores = np.array(grid_search.cv_results_['mean_test_score']).reshape(len(param_grid['n_estimators']), len(param_grid['max_depth']))\n",
    "plt.figure(figsize=(10, 6))\n",
    "plt.imshow(mean_scores, cmap='viridis', interpolation='nearest')\n",
    "plt.xticks(np.arange(len(param_grid['max_depth'])), param_grid['max_depth'])\n",
    "plt.yticks(np.arange(len(param_grid['n_estimators'])), param_grid['n_estimators'])\n",
    "plt.xlabel('Max Depth')\n",
    "plt.ylabel('Number of Trees')\n",
    "plt.colorbar()\n",
    "plt.show()"
   ]
  },
  {
   "cell_type": "markdown",
   "id": "09067ca7",
   "metadata": {},
   "source": [
    "# Random Forest - Wine LDA dataset"
   ]
  },
  {
   "cell_type": "code",
   "execution_count": 31,
   "id": "146a2b49",
   "metadata": {},
   "outputs": [
    {
     "name": "stdout",
     "output_type": "stream",
     "text": [
      "Best Parameters: {'max_depth': 6, 'n_estimators': 73}\n",
      "Mean Accuracy: 0.5422585420737845\n"
     ]
    }
   ],
   "source": [
    "# define the range of parameter values\n",
    "param_grid = {\n",
    "    'max_depth': range(2, 21),\n",
    "    'n_estimators': range(3, 201, 10)\n",
    "}\n",
    "\n",
    "# create the Random Forest classifier object\n",
    "rf = RandomForestClassifier(random_state=42)\n",
    "\n",
    "# perform the grid search with 5-fold cross validation\n",
    "grid_search = GridSearchCV(rf, param_grid, cv=5, n_jobs=-1)\n",
    "\n",
    "# fit the grid search to the data\n",
    "grid_search.fit(X_wine_lda, y_wine)\n",
    "\n",
    "# print the best parameters and mean accuracy\n",
    "print(\"Best Parameters:\", grid_search.best_params_)\n",
    "print(\"Mean Accuracy:\", grid_search.best_score_)"
   ]
  },
  {
   "cell_type": "code",
   "execution_count": 32,
   "id": "c6eb696e",
   "metadata": {},
   "outputs": [
    {
     "data": {
      "image/png": "[encoded data removed]",
      "text/plain": [
       "<Figure size 1000x600 with 2 Axes>"
      ]
     },
     "metadata": {},
     "output_type": "display_data"
    }
   ],
   "source": [
    "mean_scores = np.array(grid_search.cv_results_['mean_test_score']).reshape(len(param_grid['n_estimators']), len(param_grid['max_depth']))\n",
    "plt.figure(figsize=(10, 6))\n",
    "plt.imshow(mean_scores, cmap='viridis', interpolation='nearest')\n",
    "plt.xticks(np.arange(len(param_grid['max_depth'])), param_grid['max_depth'])\n",
    "plt.yticks(np.arange(len(param_grid['n_estimators'])), param_grid['n_estimators'])\n",
    "plt.xlabel('Max Depth')\n",
    "plt.ylabel('Number of Trees')\n",
    "plt.colorbar()\n",
    "plt.show()"
   ]
  },
  {
   "cell_type": "markdown",
   "id": "e4b36ce9",
   "metadata": {},
   "source": [
    "## Conclusion"
   ]
  },
  {
   "cell_type": "markdown",
   "id": "c9978dc5",
   "metadata": {},
   "source": [
    "PCA reduces the dimensionality of the data by creating new features that capture the most important variation in the data. This can help reduce overfitting and improve the generalization performance of the model. However, in this case, we see that the accuracy is lower than the raw data setting, which could indicate that some important information was lost during the PCA transformation.\n",
    "\n",
    "LDA is a supervised dimensionality reduction technique that can be used to project the data onto a lower-dimensional space that maximizes class separation. This can help improve the accuracy of the model by reducing the amount of noise and irrelevant features in the data. In this case, we see that the accuracy is slightly higher than the raw data setting, indicating that LDA was able to capture important discriminative information for the classification task."
   ]
  },
  {
   "cell_type": "code",
   "execution_count": null,
   "id": "ce5ebac1",
   "metadata": {},
   "outputs": [],
   "source": []
  }
 ],
 "metadata": {
  "kernelspec": {
   "display_name": "Python 3 (ipykernel)",
   "language": "python",
   "name": "python3"
  },
  "language_info": {
   "codemirror_mode": {
    "name": "ipython",
    "version": 3
   },
   "file_extension": ".py",
   "mimetype": "text/x-python",
   "name": "python",
   "nbconvert_exporter": "python",
   "pygments_lexer": "ipython3",
   "version": "3.9.13"
  }
 },
 "nbformat": 4,
 "nbformat_minor": 5
}
